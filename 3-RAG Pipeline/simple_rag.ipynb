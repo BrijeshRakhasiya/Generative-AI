{
 "cells": [
  {
   "cell_type": "markdown",
   "id": "68761101",
   "metadata": {},
   "source": [
    "# RAG Pipeline Using Langchain Chromadb And FAISS"
   ]
  },
  {
   "cell_type": "code",
   "execution_count": 5,
   "id": "dad74b1c",
   "metadata": {},
   "outputs": [
    {
     "data": {
      "text/plain": [
       "[Document(metadata={'source': 'sppech.txt'}, page_content='\"The Power of Relentless Execution\"\\nGood evening, everyone.\\nToday, I want to speak not just about business—but about belief. Not belief in luck or timing, but belief in your ability to execute, adapt, and persist.\\nWe live in a world overflowing with ideas. Everyone has a pitch, a plan, a dream. But ideas alone don’t build companies. Execution does. The difference between a startup that scales and one that stalls isn’t brilliance—it’s relentless follow-through.\\nBusiness is not a straight line. It’s a maze of pivots, setbacks, and breakthroughs. You’ll face bugs in your code, rejections from investors, and moments where your vision feels too big for your resources. But here’s the truth: every successful founder you admire has stood exactly where you’re standing—uncertain, underfunded, and overwhelmed. What set them apart wasn’t perfection. It was persistence.\\nYou don’t need to know everything. You need to learn faster than the problem grows. You don’t need the perfect product. You need a version that solves one real pain point for one real customer. You don’t need a massive team. You need a culture of ownership, where every person builds like the company is theirs—because it is.\\nAnd if you’re building something technical—whether it’s machine learning pipelines, automation tools, or cloud-based platforms—remember this: complexity is not your enemy. Confusion is. Your job is to simplify the complex, to make the invisible visible, and to turn raw data into real impact.\\nBut above all, never forget the human side of business. Behind every metric is a person. Behind every sale is trust. Behind every team is a shared dream. Build with empathy. Communicate with clarity. Lead with integrity.\\nYou will fail. You will iterate. You will rebuild. And that’s not a detour—it’s the path. Because every time you debug a system, refine a workflow, or ship a feature that actually works, you’re not just building a product. You’re building belief—in yourself, in your team, and in the future you’re creating.\\nSo don’t wait for permission. Don’t wait for perfect conditions. Start now. Start messy. Start scared. But start.\\nBecause the world doesn’t need more ideas. It needs more builders.\\nThank you.\\n')]"
      ]
     },
     "execution_count": 5,
     "metadata": {},
     "output_type": "execute_result"
    }
   ],
   "source": [
    "# Data Ingestion \n",
    "\n",
    "from langchain_community.document_loaders import TextLoader\n",
    "\n",
    "loader = TextLoader('sppech.txt')\n",
    "text_docs = loader.load()\n",
    "text_docs"
   ]
  },
  {
   "cell_type": "code",
   "execution_count": 7,
   "id": "353afcdb",
   "metadata": {},
   "outputs": [],
   "source": [
    "import os\n",
    "from dotenv import load_dotenv\n",
    "\n",
    "load_dotenv()\n",
    "\n",
    "os.environ['OPENAI_API_KEY'] = os.getenv(\"OPENAI_API_KEY\")"
   ]
  },
  {
   "cell_type": "code",
   "execution_count": 8,
   "id": "f14b3a19",
   "metadata": {},
   "outputs": [
    {
     "data": {
      "text/plain": [
       "[Document(metadata={'source': 'sppech.txt'}, page_content='\"The Power of Relentless Execution\"\\nGood evening, everyone.'),\n",
       " Document(metadata={'source': 'sppech.txt'}, page_content='Good evening, everyone.\\nToday, I want to speak not just about business—but about belief. Not belief in luck or timing, but belief in your ability to execute, adapt, and persist.'),\n",
       " Document(metadata={'source': 'sppech.txt'}, page_content='We live in a world overflowing with ideas. Everyone has a pitch, a plan, a dream. But ideas alone don’t build companies. Execution does. The difference between a startup that scales and one that'),\n",
       " Document(metadata={'source': 'sppech.txt'}, page_content='between a startup that scales and one that stalls isn’t brilliance—it’s relentless follow-through.'),\n",
       " Document(metadata={'source': 'sppech.txt'}, page_content='Business is not a straight line. It’s a maze of pivots, setbacks, and breakthroughs. You’ll face bugs in your code, rejections from investors, and moments where your vision feels too big for your'),\n",
       " Document(metadata={'source': 'sppech.txt'}, page_content='moments where your vision feels too big for your resources. But here’s the truth: every successful founder you admire has stood exactly where you’re standing—uncertain, underfunded, and overwhelmed.'),\n",
       " Document(metadata={'source': 'sppech.txt'}, page_content='standing—uncertain, underfunded, and overwhelmed. What set them apart wasn’t perfection. It was persistence.'),\n",
       " Document(metadata={'source': 'sppech.txt'}, page_content='You don’t need to know everything. You need to learn faster than the problem grows. You don’t need the perfect product. You need a version that solves one real pain point for one real customer. You'),\n",
       " Document(metadata={'source': 'sppech.txt'}, page_content='one real pain point for one real customer. You don’t need a massive team. You need a culture of ownership, where every person builds like the company is theirs—because it is.'),\n",
       " Document(metadata={'source': 'sppech.txt'}, page_content='And if you’re building something technical—whether it’s machine learning pipelines, automation tools, or cloud-based platforms—remember this: complexity is not your enemy. Confusion is. Your job is'),\n",
       " Document(metadata={'source': 'sppech.txt'}, page_content='is not your enemy. Confusion is. Your job is to simplify the complex, to make the invisible visible, and to turn raw data into real impact.'),\n",
       " Document(metadata={'source': 'sppech.txt'}, page_content='But above all, never forget the human side of business. Behind every metric is a person. Behind every sale is trust. Behind every team is a shared dream. Build with empathy. Communicate with clarity.'),\n",
       " Document(metadata={'source': 'sppech.txt'}, page_content='Build with empathy. Communicate with clarity. Lead with integrity.'),\n",
       " Document(metadata={'source': 'sppech.txt'}, page_content='You will fail. You will iterate. You will rebuild. And that’s not a detour—it’s the path. Because every time you debug a system, refine a workflow, or ship a feature that actually works, you’re not'),\n",
       " Document(metadata={'source': 'sppech.txt'}, page_content='or ship a feature that actually works, you’re not just building a product. You’re building belief—in yourself, in your team, and in the future you’re creating.'),\n",
       " Document(metadata={'source': 'sppech.txt'}, page_content='So don’t wait for permission. Don’t wait for perfect conditions. Start now. Start messy. Start scared. But start.\\nBecause the world doesn’t need more ideas. It needs more builders.\\nThank you.')]"
      ]
     },
     "execution_count": 8,
     "metadata": {},
     "output_type": "execute_result"
    }
   ],
   "source": [
    "from langchain.text_splitter import RecursiveCharacterTextSplitter\n",
    "\n",
    "text_splitter = RecursiveCharacterTextSplitter(chunk_size = 200 , chunk_overlap = 50)\n",
    "documents = text_splitter.split_documents(text_docs)\n",
    "documents"
   ]
  },
  {
   "cell_type": "code",
   "execution_count": 13,
   "id": "9d0b118b",
   "metadata": {},
   "outputs": [],
   "source": [
    "# Embedding \n",
    "\n",
    "from langchain.embeddings import OllamaEmbeddings\n",
    "from langchain_community.vectorstores import FAISS\n",
    "\n",
    "db = FAISS.from_documents(documents , OllamaEmbeddings(model='llama3.2:latest'))"
   ]
  },
  {
   "cell_type": "code",
   "execution_count": 14,
   "id": "7351ff62",
   "metadata": {},
   "outputs": [
    {
     "name": "stdout",
     "output_type": "stream",
     "text": [
      "And if you’re building something technical—whether it’s machine learning pipelines, automation tools, or cloud-based platforms—remember this: complexity is not your enemy. Confusion is. Your job is\n"
     ]
    }
   ],
   "source": [
    "query = \"You’ll face bugs in your code\"\n",
    "retrieved_res = db.similarity_search(query)\n",
    "print(retrieved_res[0].page_content)"
   ]
  },
  {
   "cell_type": "code",
   "execution_count": null,
   "id": "b38b2710",
   "metadata": {},
   "outputs": [],
   "source": []
  }
 ],
 "metadata": {
  "kernelspec": {
   "display_name": "Python 3",
   "language": "python",
   "name": "python3"
  },
  "language_info": {
   "codemirror_mode": {
    "name": "ipython",
    "version": 3
   },
   "file_extension": ".py",
   "mimetype": "text/x-python",
   "name": "python",
   "nbconvert_exporter": "python",
   "pygments_lexer": "ipython3",
   "version": "3.12.8"
  }
 },
 "nbformat": 4,
 "nbformat_minor": 5
}
